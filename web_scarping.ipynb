{
 "cells": [
  {
   "cell_type": "code",
   "execution_count": 1,
   "id": "e64c3d4e-35d1-4271-baab-6bf5ec3505e2",
   "metadata": {},
   "outputs": [
    {
     "name": "stdout",
     "output_type": "stream",
     "text": [
      "1. \"“The world as we have created it is a process of our thinking. It cannot be changed without changing our thinking.”\" - Albert Einstein\n",
      "Tags: change, deep-thoughts, thinking, world\n",
      "\n",
      "2. \"“It is our choices, Harry, that show what we truly are, far more than our abilities.”\" - J.K. Rowling\n",
      "Tags: abilities, choices\n",
      "\n",
      "3. \"“There are only two ways to live your life. One is as though nothing is a miracle. The other is as though everything is a miracle.”\" - Albert Einstein\n",
      "Tags: inspirational, life, live, miracle, miracles\n",
      "\n",
      "4. \"“The person, be it gentleman or lady, who has not pleasure in a good novel, must be intolerably stupid.”\" - Jane Austen\n",
      "Tags: aliteracy, books, classic, humor\n",
      "\n",
      "5. \"“Imperfection is beauty, madness is genius and it's better to be absolutely ridiculous than absolutely boring.”\" - Marilyn Monroe\n",
      "Tags: be-yourself, inspirational\n",
      "\n"
     ]
    }
   ],
   "source": [
    "import requests\n",
    "from bs4 import BeautifulSoup\n",
    "url = \"http://quotes.toscrape.com/\"\n",
    "response = requests.get(url)\n",
    "if response.status_code == 200:\n",
    "    soup = BeautifulSoup(response.text, 'html.parser')\n",
    "    quotes = soup.find_all(\"div\", class_=\"quote\")\n",
    "    for i, quote in enumerate(quotes[:5]):\n",
    "        text = quote.find(\"span\", class_=\"text\").text \n",
    "        author = quote.find(\"small\", class_=\"author\").text  \n",
    "        tags = [tag.text for tag in quote.find_all(\"a\", class_=\"tag\")]\n",
    "        print(f\"{i+1}. \\\"{text}\\\" - {author}\")\n",
    "        print(f\"Tags: {', '.join(tags)}\\n\")\n",
    "\n",
    "else:\n",
    "    print(f\"Failed to retrieve the webpage. Status Code: {response.status_code}\")"
   ]
  },
  {
   "cell_type": "code",
   "execution_count": 3,
   "id": "a8a757ff-dba6-4f6c-8326-07c21128569d",
   "metadata": {},
   "outputs": [
    {
     "name": "stdout",
     "output_type": "stream",
     "text": [
      "Current Weather in Hyderabad: 32 °C | Clear.\n"
     ]
    }
   ],
   "source": [
    "import requests \n",
    "from bs4 import BeautifulSoup \n",
    "city = \"india/hyderabad\" \n",
    "url = f\"https://www.timeanddate.com/weather/{city}\" \n",
    "response = requests.get(url) \n",
    "soup = BeautifulSoup (response.text, 'html.parser') \n",
    "temp = soup.find(\"div\", class_=\"h2\").text.strip() if soup.find(\"div\", class_=\"h2\") else \"N/A\" \n",
    "desc = soup.find(\"p\").text.strip() if soup.find(\"p\") else \"N/A\" \n",
    "print(f\"Current Weather in Hyderabad: {temp} | {desc}\")"
   ]
  },
  {
   "cell_type": "code",
   "execution_count": 9,
   "id": "3981196f-cc42-45ae-a033-75f850d3bdf1",
   "metadata": {},
   "outputs": [
    {
     "name": "stdout",
     "output_type": "stream",
     "text": [
      "Product: In stock\n",
      "Price: Rs. 12,390.\n"
     ]
    }
   ],
   "source": [
    "import requests\n",
    "from bs4 import BeautifulSoup\n",
    "search_url = \"https://www.amazon.in/Godrej-Refrigerator-EDGE-205B-WRF/dp/B0BS6XQVD1/ref=sr_1_1_sspa?_encoding=UTF8&content-id=amzn1.sym.58c90a12-100b-4a2f-8e15-7c06f1abe2be&dib=eyJ2IjoiMSJ9.l5AhxTU4G5z5blP3SQsiOASy1C86Op2e7c-3ilXRx9Z3xjxvAFmZZz9CRx-orywfVFl5tSWfuQ1wnzD_IoMuuWbXgweyIsLSzSDJPBEc9VC6fjwsKphUqfrrpEe5Yn9MyX_62Rsxp7mtSnHqtHEbcG2Kw4pJr59cO8cWlu1IaaJbMkAlLbNmsBMFbeA3-ib-i_ZQ5hNIXL2sMcLNg2kXwlWrtdEUqA5TFhuJnVj9iBNO_5VnhW7LwwKI-B6_iqm1JkIcwciMbjYprqzfDbKY7LJ-IZ-KcTfBKZnXiDfwqPY.XjE9_oQ1F8W0WkmnrL7O_8tYmgIHdHMUQNkC-OQD2mM&dib_tag=se&pd_rd_r=5b072fe3-fb5a-40c0-9847-2e4e6debbcd9&pd_rd_w=IKYGx&pd_rd_wg=zpAzf&qid=1739862547&refinements=p_85%3A10440599031&rps=1&s=kitchen&sr=1-1-spons&sp_csd=d2lkZ2V0TmFtZT1zcF9hdGZfYnJvd3Nl&th=1\"\n",
    "headers = {\n",
    "    \"User-Agent\": \"Mozilla/5.0 (Windows NT 10.0; Win64; x64) AppleWebKit/537.36 (KHTML, like Gecko) Chrome/91.0.4472.124 Safari/537.36\"\n",
    "}\n",
    "response = requests.get(search_url, headers=headers)\n",
    "if response.status_code == 200:\n",
    "    soup = BeautifulSoup(response.text, \"html.parser\")\n",
    "    product = soup.select_one(\"span.a-size-medium\")\n",
    "    price = soup.select_one(\"span.a-price-whole\")\n",
    "    if product and price:\n",
    "        print(f\"Product: {product.text.strip()}\")\n",
    "        print(f\"Price: Rs. {price.text.strip()}\")\n",
    "    else:\n",
    "        print(\"Could not find product details.\")\n",
    "else:\n",
    "    print(f\"Failed to retrieve the webpage. Status Code: {response.status_code}\")"
   ]
  },
  {
   "cell_type": "markdown",
   "id": "e2af839e-4274-4627-8f42-3efbe35aa798",
   "metadata": {},
   "source": [
    "import requests\n"
   ]
  },
  {
   "cell_type": "code",
   "execution_count": 12,
   "id": "8b54304b-9f17-409a-a12b-dbe349574e2b",
   "metadata": {},
   "outputs": [
    {
     "name": "stdout",
     "output_type": "stream",
     "text": [
      "World: 8,119,000,000\n",
      "China: 1,408,280,000\n",
      "1,402,737,000: 17.2%\n",
      "United States: 340,110,988\n",
      "Indonesia: 282,477,584\n"
     ]
    }
   ],
   "source": [
    "import requests\n",
    "from bs4 import BeautifulSoup\n",
    "\n",
    "# Define the URL\n",
    "url = \"https://en.wikipedia.org/wiki/List_of_countries_and_dependencies_by_population\"\n",
    "response = requests.get(url)\n",
    "if response.status_code == 200:\n",
    "    soup = BeautifulSoup(response.text, \"html.parser\")\n",
    "    table = soup.find(\"table\", class_=\"wikitable\")\n",
    "    for row in table.find_all(\"tr\")[1:6]:\n",
    "        columns = row.find_all(\"td\")\n",
    "        if len(columns) > 2:\n",
    "            country = columns[1].text.strip()\n",
    "            population = columns[2].text.strip()\n",
    "            print(f\"{country}: {population}\")\n",
    "else:\n",
    "    print(f\"Failed to retrieve the webpage. Status Code: {response.status_code}\")"
   ]
  },
  {
   "cell_type": "code",
   "execution_count": 14,
   "id": "743d2123-a9fb-421a-a6bc-af575fa0ff85",
   "metadata": {},
   "outputs": [],
   "source": [
    "from IPython.display import display, HTML"
   ]
  },
  {
   "cell_type": "code",
   "execution_count": 18,
   "id": "9d2b5668-c14f-47aa-95a4-04e86d9410fa",
   "metadata": {},
   "outputs": [
    {
     "data": {
      "text/html": [
       "\n",
       "    <font color=\"blue\">THis is a sample table</font>\n",
       "   <table>\n",
       "   <tr>\n",
       "     <th>Company</th>\n",
       "     <th>contact</th>\n",
       "     <th>country</th>\n",
       "   </tr>\n",
       "   <tr>\n",
       "     <td>Alfreds sfdjdg</td>\n",
       "     <td>frances</td>\n",
       "     <td>Germany</td>\n",
       "   </tr>\n",
       "   <tr>\n",
       "     <td>centro</td>\n",
       "     <td>frann</td>\n",
       "     <td>jfdg</td>\n",
       "   </tr>\n",
       "  </table>\n"
      ],
      "text/plain": [
       "<IPython.core.display.HTML object>"
      ]
     },
     "metadata": {},
     "output_type": "display_data"
    }
   ],
   "source": [
    " display(HTML(\"\"\"\n",
    "     <font color=\"blue\">THis is a sample table</font>\n",
    "    <table>\n",
    "    <tr>\n",
    "      <th>Company</th>\n",
    "      <th>contact</th>\n",
    "      <th>country</th>\n",
    "    </tr>\n",
    "    <tr>\n",
    "      <td>Alfreds sfdjdg</td>\n",
    "      <td>frances</td>\n",
    "      <td>Germany</td>\n",
    "    </tr>\n",
    "    <tr>\n",
    "      <td>centro</td>\n",
    "      <td>frann</td>\n",
    "      <td>jfdg</td>\n",
    "    </tr>\n",
    "   </table>\n",
    " \"\"\"))"
   ]
  },
  {
   "cell_type": "code",
   "execution_count": null,
   "id": "5641f4d2-b131-46d8-8296-937aaa361cc3",
   "metadata": {},
   "outputs": [],
   "source": []
  }
 ],
 "metadata": {
  "kernelspec": {
   "display_name": "Python 3 (ipykernel)",
   "language": "python",
   "name": "python3"
  },
  "language_info": {
   "codemirror_mode": {
    "name": "ipython",
    "version": 3
   },
   "file_extension": ".py",
   "mimetype": "text/x-python",
   "name": "python",
   "nbconvert_exporter": "python",
   "pygments_lexer": "ipython3",
   "version": "3.12.4"
  }
 },
 "nbformat": 4,
 "nbformat_minor": 5
}
